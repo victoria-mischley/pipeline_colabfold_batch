{
  "cells": [
    {
      "cell_type": "markdown",
      "metadata": {
        "id": "view-in-github",
        "colab_type": "text"
      },
      "source": [
        "<a href=\"https://colab.research.google.com/github/victoria-mischley/pipeline_colabfold_batch/blob/main/homework2_python_exercises.ipynb\" target=\"_parent\"><img src=\"https://colab.research.google.com/assets/colab-badge.svg\" alt=\"Open In Colab\"/></a>"
      ]
    },
    {
      "cell_type": "markdown",
      "id": "0cb82b47",
      "metadata": {
        "id": "0cb82b47"
      },
      "source": [
        "First off, you need to open this notebook in Google Colab. So download this notebook and upload it to your Google Drive. Once it's in your Google Drive, you can open it with Google Colab."
      ]
    },
    {
      "cell_type": "markdown",
      "id": "cf270aa7",
      "metadata": {
        "id": "cf270aa7"
      },
      "source": [
        "The solutions to the following exercises can all be provided by ChatGPT or found online. However, we encourage you to at least think about the algorithm you would use first. If you use code that you didn't develop yourself, you should review it carefully to make sure you understand with what it is doing, and make sure it isn't doing something wrong."
      ]
    },
    {
      "cell_type": "markdown",
      "id": "128643c8",
      "metadata": {
        "id": "128643c8"
      },
      "source": [
        "# Taking geometric measurements in Python\n",
        "\n",
        "In this section, you will make tools for yourself to measure geometry relating several cartesian points. This information is frequently necessary in the study of proteins. You will likely make use of the `numpy` library.\n",
        "\n",
        "## Problem 1: Distance\n",
        "\n",
        "Write a Python function calculate_distance(point1, point2) that takes two points as input, where each point is represented as a tuple of three coordinates (x, y, z). The function should calculate and return the Euclidean distance between the two points."
      ]
    },
    {
      "cell_type": "code",
      "source": [
        "#my code\n",
        "import math\n",
        "\n",
        "def calculate_distance(point1, point2):\n",
        "    x1, y1, z1 = point1\n",
        "    x2, y2, z2 = point2\n",
        "\n",
        "    distance = math.sqrt((x2 - x1) ** 2 + (y2 - y1) ** 2 + (z2 - z1) ** 2)\n",
        "    return distance\n"
      ],
      "metadata": {
        "id": "Uc2jYtKF_w9I"
      },
      "id": "Uc2jYtKF_w9I",
      "execution_count": null,
      "outputs": []
    },
    {
      "cell_type": "code",
      "execution_count": null,
      "id": "f2053f61",
      "metadata": {
        "id": "f2053f61",
        "colab": {
          "base_uri": "https://localhost:8080/"
        },
        "outputId": "5dd850db-6608-49b5-90b3-811f4ce940d0"
      },
      "outputs": [
        {
          "output_type": "stream",
          "name": "stdout",
          "text": [
            "Euclidean distance: 5.196152422706632\n"
          ]
        }
      ],
      "source": [
        "# Implement your code for Problem 1 in this cell.\n",
        "point1 = (1, 2, 3)\n",
        "point2 = (4, 5, 6)\n",
        "\n",
        "distance = calculate_distance(point1, point2)\n",
        "print(\"Euclidean distance:\", distance)\n"
      ]
    },
    {
      "cell_type": "markdown",
      "id": "b25911f6",
      "metadata": {
        "id": "b25911f6"
      },
      "source": [
        "## Problem 2: Angle\n",
        "\n",
        "Write a Python function calculate_angle(point1, point2, point3) that takes three points as input. Again, each point is represented as a tuple of three coordinates. The function should calculate and return the angle (in degrees) formed by the vectors connecting point1 to point2 and point2 to point3."
      ]
    },
    {
      "cell_type": "code",
      "source": [
        "#my code\n",
        "import math\n",
        "\n",
        "def calculate_angle(point1, point2, point3):\n",
        "    # Calculate the vectors from point1 to point2 and point2 to point3\n",
        "    vector1 = (point2[0] - point1[0], point2[1] - point1[1], point2[2] - point1[2])\n",
        "    vector2 = (point3[0] - point2[0], point3[1] - point2[1], point3[2] - point2[2])\n",
        "\n",
        "    # Calculate the dot product of the two vectors\n",
        "    dot_product = sum(v1 * v2 for v1, v2 in zip(vector1, vector2))\n",
        "    # Calculate the magnitudes of the vectors\n",
        "    magnitude1 = math.sqrt(sum(v ** 2 for v in vector1))\n",
        "    magnitude2 = math.sqrt(sum(v ** 2 for v in vector2))\n",
        "\n",
        "    # Calculate the cosine of the angle\n",
        "    cosine_angle = dot_product / (magnitude1 * magnitude2)\n",
        "\n",
        "    # Calculate the angle in radians and convert it to degrees\n",
        "    angle_in_radians = math.acos(cosine_angle)\n",
        "    angle_in_degrees = math.degrees(angle_in_radians)\n",
        "    return angle_in_degrees\n"
      ],
      "metadata": {
        "id": "I4aKhOCuAmJf"
      },
      "id": "I4aKhOCuAmJf",
      "execution_count": null,
      "outputs": []
    },
    {
      "cell_type": "code",
      "source": [
        "point1 = (1, 5, 3)\n",
        "point2 = (4, 5, 6)\n",
        "point3 = (7, 8, 9)\n",
        "\n",
        "angle = calculate_angle(point1, point2, point3)\n",
        "print(\"Angle (in degrees):\", angle)\n"
      ],
      "metadata": {
        "colab": {
          "base_uri": "https://localhost:8080/"
        },
        "id": "_CC0gVgsBKIU",
        "outputId": "231b0364-4f08-4a76-e377-7027c06bd7fb"
      },
      "id": "_CC0gVgsBKIU",
      "execution_count": null,
      "outputs": [
        {
          "output_type": "stream",
          "name": "stdout",
          "text": [
            "18\n",
            "4.242640687119285\n",
            "5.196152422706632\n",
            "0.816496580927726\n",
            "0.6154797086703874\n",
            "Angle (in degrees): 35.264389682754654\n"
          ]
        }
      ]
    },
    {
      "cell_type": "markdown",
      "id": "44396139",
      "metadata": {
        "id": "44396139"
      },
      "source": [
        "## Problem 3: Dihedral/Torsion\n",
        "\n",
        "Write a Python function calculate_torsion_angle(point1, point2, point3, point4) that takes four points as input. Each point is represented as a tuple of three coordinates. The function should calculate and return the torsion (dihedral) angle (in degrees) formed by the plane defined by the vectors connecting point1 to point2 and point2 to point3, and the plane defined by the vectors connecting point2 to point3 and point3 to point4."
      ]
    },
    {
      "cell_type": "code",
      "source": [
        "#my code\n",
        "import math\n",
        "\n",
        "def calculate_torsion_angle(point1, point2, point3, point4):\n",
        "    # Calculate the vectors between the points\n",
        "    vector1 = (point2[0] - point1[0], point2[1] - point1[1], point2[2] - point1[2])\n",
        "    vector2 = (point3[0] - point2[0], point3[1] - point2[1], point3[2] - point2[2])\n",
        "    vector3 = (point4[0] - point3[0], point4[1] - point3[1], point4[2] - point3[2])\n",
        "\n",
        "    # Calculate the normal vectors of the planes defined by the points\n",
        "    normal1 = (\n",
        "        vector1[1] * vector2[2] - vector1[2] * vector2[1],\n",
        "        vector1[2] * vector2[0] - vector1[0] * vector2[2],\n",
        "        vector1[0] * vector2[1] - vector1[1] * vector2[0]\n",
        "    )\n",
        "\n",
        "    normal2 = (\n",
        "        vector2[1] * vector3[2] - vector2[2] * vector3[1],\n",
        "        vector2[2] * vector3[0] - vector2[0] * vector3[2],\n",
        "        vector2[0] * vector3[1] - vector2[1] * vector3[0]\n",
        "    )\n",
        "\n",
        "    # Calculate the dot product of the two normal vectors\n",
        "    dot_product = sum(n1 * n2 for n1, n2 in zip(normal1, normal2))\n",
        "\n",
        "    # Calculate the cross product of the two normal vectors\n",
        "    cross_product = (\n",
        "        normal1[1] * normal2[2] - normal1[2] * normal2[1],\n",
        "        normal1[2] * normal2[0] - normal1[0] * normal2[2],\n",
        "        normal1[0] * normal2[1] - normal1[1] * normal2[0]\n",
        "    )\n",
        "\n",
        "    # Calculate the torsion (dihedral) angle in radians using the arctangent function\n",
        "    torsion_angle = math.atan2(dot_product, sum(c ** 2 for c in cross_product))\n",
        "\n",
        "    # Convert the angle to degrees\n",
        "    torsion_angle_degrees = math.degrees(torsion_angle)\n",
        "\n",
        "    return torsion_angle_degrees\n"
      ],
      "metadata": {
        "id": "UjLPPV9YBSB1"
      },
      "id": "UjLPPV9YBSB1",
      "execution_count": null,
      "outputs": []
    },
    {
      "cell_type": "code",
      "source": [
        "point1 = (1, 3, 3)\n",
        "point2 = (4, 5, 6)\n",
        "point3 = (7, 8, 9)\n",
        "point4 = (10, 15, 12)\n",
        "\n",
        "angle = calculate_torsion_angle(point1, point2, point3, point4)\n",
        "print(\"Torsion angle (in degrees):\", angle)\n"
      ],
      "metadata": {
        "colab": {
          "base_uri": "https://localhost:8080/"
        },
        "id": "DEJj57M0BR3k",
        "outputId": "c5dc7ed9-9a36-47e7-c9d5-b831a2ab2269"
      },
      "id": "DEJj57M0BR3k",
      "execution_count": null,
      "outputs": [
        {
          "output_type": "stream",
          "name": "stdout",
          "text": [
            "Torsion angle (in degrees): 90.0\n"
          ]
        }
      ]
    },
    {
      "cell_type": "markdown",
      "id": "9da42bba",
      "metadata": {
        "id": "9da42bba"
      },
      "source": [
        "## Execute your code"
      ]
    },
    {
      "cell_type": "code",
      "execution_count": null,
      "id": "8c1cf2de",
      "metadata": {
        "id": "8c1cf2de",
        "colab": {
          "base_uri": "https://localhost:8080/"
        },
        "outputId": "9ca06e55-6ff5-4022-eb98-3c4bc62d9c04"
      },
      "outputs": [
        {
          "output_type": "stream",
          "name": "stdout",
          "text": [
            "Distance: 1.7320508075688772\n",
            "Angle: 90.0\n",
            "Torsion Angle: -90.0\n"
          ]
        }
      ],
      "source": [
        "point1 = (0, 0, 0)\n",
        "point2 = (1, 1, 1)\n",
        "point3 = (2, 0, 1)\n",
        "point4 = (3, 1, 2)\n",
        "\n",
        "distance = calculate_distance(point1, point2)\n",
        "angle = calculate_angle(point1, point2, point3)\n",
        "torsion_angle = calculate_torsion_angle(point1, point2, point3, point4)\n",
        "\n",
        "print(\"Distance:\", distance)\n",
        "print(\"Angle:\", angle)\n",
        "print(\"Torsion Angle:\", torsion_angle)"
      ]
    },
    {
      "cell_type": "markdown",
      "id": "3f692fac",
      "metadata": {
        "id": "3f692fac"
      },
      "source": [
        "# Introduction to Pandas DataFrame\n",
        "\n",
        "In this exercise, you will be introduced to the basics of working with Pandas DataFrames without requiring any external files. You will create a simple dataset and perform basic data manipulation tasks. This exercise is designed to be completed in under 15 minutes and is suitable for students with basic Python experience.\n",
        "\n",
        "## Problem 4: Create a DataFrame\n",
        "\n",
        "* Import the Pandas library\n",
        "* Create a dictionary containing data about three students: names, ages, and grades\n",
        "* Convert the dictionary into a Pandas DataFrame\n",
        "* Display the DataFrame"
      ]
    },
    {
      "cell_type": "code",
      "source": [
        "#my code\n",
        "import pandas as pd\n",
        "\n",
        "# Create a dictionary with data about three students\n",
        "student_data = {\n",
        "    'Name': ['Alice', 'Bob', 'Charlie'],\n",
        "    'Age': [20, 21, 22],\n",
        "    'Grade': [85, 90, 78]\n",
        "}\n",
        "\n",
        "# Convert the dictionary into a Pandas DataFrame\n",
        "student_df = pd.DataFrame(student_data)\n",
        "\n",
        "# Display the DataFrame\n",
        "print(student_df)\n"
      ],
      "metadata": {
        "colab": {
          "base_uri": "https://localhost:8080/"
        },
        "id": "1qXXenQdBw_M",
        "outputId": "543a52ac-9943-4a7d-f122-45cd6b4bb538"
      },
      "id": "1qXXenQdBw_M",
      "execution_count": null,
      "outputs": [
        {
          "output_type": "stream",
          "name": "stdout",
          "text": [
            "      Name  Age  Grade\n",
            "0    Alice   20     85\n",
            "1      Bob   21     90\n",
            "2  Charlie   22     78\n"
          ]
        }
      ]
    },
    {
      "cell_type": "markdown",
      "id": "701f5b92",
      "metadata": {
        "id": "701f5b92"
      },
      "source": [
        "## Problem 5: Data Manipulation\n",
        "\n",
        "* Calculate and print the average age of the students.\n",
        "* Add a new student, \"David\", who is 22 years old and scored 88.\n",
        "* Print the updated DataFrame.\n",
        "\n",
        "Guidelines:\n",
        "* Use the pandas library to create and manipulate the DataFrame.\n",
        "* Utilize DataFrame functions like mean() and append() to achieve the tasks.\n",
        "\n",
        "This is an introductory exercise. Pandas is a large library with lots of useful tools that are not covered in the scope of our course. You can read more about it in the [pandas documentation](https://pandas.pydata.org/docs/user_guide/index.html)."
      ]
    },
    {
      "cell_type": "code",
      "execution_count": null,
      "id": "10e50956",
      "metadata": {
        "id": "10e50956",
        "colab": {
          "base_uri": "https://localhost:8080/"
        },
        "outputId": "25efb461-3782-479f-c0a5-8e9062319f05"
      },
      "outputs": [
        {
          "output_type": "stream",
          "name": "stdout",
          "text": [
            "Average Age of Students: 21.0\n",
            "\n",
            "Updated DataFrame:\n",
            "      Name  Age  Grade\n",
            "0    Alice   20     85\n",
            "1      Bob   21     90\n",
            "2  Charlie   22     78\n",
            "3    David   22     88\n"
          ]
        },
        {
          "output_type": "stream",
          "name": "stderr",
          "text": [
            "<ipython-input-2-b5846daf15fe>:8: FutureWarning: The frame.append method is deprecated and will be removed from pandas in a future version. Use pandas.concat instead.\n",
            "  student_df = student_df.append(new_student_data, ignore_index=True)\n"
          ]
        }
      ],
      "source": [
        "#my code\n",
        "# Calculate and print the average age of the students\n",
        "average_age = student_df['Age'].mean()\n",
        "print(\"Average Age of Students:\", average_age)\n",
        "\n",
        "# Add a new student \"David\" to the DataFrame\n",
        "new_student_data = {'Name': 'David', 'Age': 22, 'Grade': 88}\n",
        "student_df = student_df.append(new_student_data, ignore_index=True)\n",
        "\n",
        "# Print the updated DataFrame\n",
        "print(\"\\nUpdated DataFrame:\")\n",
        "print(student_df)\n",
        "\n"
      ]
    },
    {
      "cell_type": "code",
      "source": [],
      "metadata": {
        "id": "yxylQ958QB1-"
      },
      "id": "yxylQ958QB1-",
      "execution_count": null,
      "outputs": []
    },
    {
      "cell_type": "code",
      "execution_count": null,
      "metadata": {
        "colab": {
          "base_uri": "https://localhost:8080/",
          "height": 407
        },
        "outputId": "2ba2730c-77f0-492e-8b9d-32204acae36b",
        "id": "RUY38fg0QDiu"
      },
      "outputs": [
        {
          "output_type": "stream",
          "name": "stdout",
          "text": [
            "Average Age of Students: 21.25\n"
          ]
        },
        {
          "output_type": "error",
          "ename": "TypeError",
          "evalue": "ignored",
          "traceback": [
            "\u001b[0;31m---------------------------------------------------------------------------\u001b[0m",
            "\u001b[0;31mTypeError\u001b[0m                                 Traceback (most recent call last)",
            "\u001b[0;32m<ipython-input-5-51af6c72db02>\u001b[0m in \u001b[0;36m<cell line: 8>\u001b[0;34m()\u001b[0m\n\u001b[1;32m      6\u001b[0m \u001b[0;31m# Add a new student \"David\" to the DataFrame\u001b[0m\u001b[0;34m\u001b[0m\u001b[0;34m\u001b[0m\u001b[0m\n\u001b[1;32m      7\u001b[0m \u001b[0mnew_student_data\u001b[0m \u001b[0;34m=\u001b[0m \u001b[0;34m{\u001b[0m\u001b[0;34m'Name'\u001b[0m\u001b[0;34m:\u001b[0m \u001b[0;34m'Mary'\u001b[0m\u001b[0;34m,\u001b[0m \u001b[0;34m'Age'\u001b[0m\u001b[0;34m:\u001b[0m \u001b[0;36m30\u001b[0m\u001b[0;34m,\u001b[0m \u001b[0;34m'Grade'\u001b[0m\u001b[0;34m:\u001b[0m \u001b[0;36m95\u001b[0m\u001b[0;34m}\u001b[0m\u001b[0;34m\u001b[0m\u001b[0;34m\u001b[0m\u001b[0m\n\u001b[0;32m----> 8\u001b[0;31m \u001b[0mstudent_df\u001b[0m \u001b[0;34m=\u001b[0m \u001b[0mpd\u001b[0m\u001b[0;34m.\u001b[0m\u001b[0mconcat\u001b[0m\u001b[0;34m(\u001b[0m\u001b[0mnew_student_data\u001b[0m\u001b[0;34m,\u001b[0m \u001b[0mignore_index\u001b[0m\u001b[0;34m=\u001b[0m\u001b[0;32mTrue\u001b[0m\u001b[0;34m)\u001b[0m\u001b[0;34m\u001b[0m\u001b[0;34m\u001b[0m\u001b[0m\n\u001b[0m\u001b[1;32m      9\u001b[0m \u001b[0;34m\u001b[0m\u001b[0m\n\u001b[1;32m     10\u001b[0m \u001b[0;31m# Print the updated DataFrame\u001b[0m\u001b[0;34m\u001b[0m\u001b[0;34m\u001b[0m\u001b[0m\n",
            "\u001b[0;32m/usr/local/lib/python3.10/dist-packages/pandas/util/_decorators.py\u001b[0m in \u001b[0;36mwrapper\u001b[0;34m(*args, **kwargs)\u001b[0m\n\u001b[1;32m    329\u001b[0m                     \u001b[0mstacklevel\u001b[0m\u001b[0;34m=\u001b[0m\u001b[0mfind_stack_level\u001b[0m\u001b[0;34m(\u001b[0m\u001b[0;34m)\u001b[0m\u001b[0;34m,\u001b[0m\u001b[0;34m\u001b[0m\u001b[0;34m\u001b[0m\u001b[0m\n\u001b[1;32m    330\u001b[0m                 )\n\u001b[0;32m--> 331\u001b[0;31m             \u001b[0;32mreturn\u001b[0m \u001b[0mfunc\u001b[0m\u001b[0;34m(\u001b[0m\u001b[0;34m*\u001b[0m\u001b[0margs\u001b[0m\u001b[0;34m,\u001b[0m \u001b[0;34m**\u001b[0m\u001b[0mkwargs\u001b[0m\u001b[0;34m)\u001b[0m\u001b[0;34m\u001b[0m\u001b[0;34m\u001b[0m\u001b[0m\n\u001b[0m\u001b[1;32m    332\u001b[0m \u001b[0;34m\u001b[0m\u001b[0m\n\u001b[1;32m    333\u001b[0m         \u001b[0;31m# error: \"Callable[[VarArg(Any), KwArg(Any)], Any]\" has no\u001b[0m\u001b[0;34m\u001b[0m\u001b[0;34m\u001b[0m\u001b[0m\n",
            "\u001b[0;32m/usr/local/lib/python3.10/dist-packages/pandas/core/reshape/concat.py\u001b[0m in \u001b[0;36mconcat\u001b[0;34m(objs, axis, join, ignore_index, keys, levels, names, verify_integrity, sort, copy)\u001b[0m\n\u001b[1;32m    366\u001b[0m     \u001b[0;36m1\u001b[0m   \u001b[0;36m3\u001b[0m   \u001b[0;36m4\u001b[0m\u001b[0;34m\u001b[0m\u001b[0;34m\u001b[0m\u001b[0m\n\u001b[1;32m    367\u001b[0m     \"\"\"\n\u001b[0;32m--> 368\u001b[0;31m     op = _Concatenator(\n\u001b[0m\u001b[1;32m    369\u001b[0m         \u001b[0mobjs\u001b[0m\u001b[0;34m,\u001b[0m\u001b[0;34m\u001b[0m\u001b[0;34m\u001b[0m\u001b[0m\n\u001b[1;32m    370\u001b[0m         \u001b[0maxis\u001b[0m\u001b[0;34m=\u001b[0m\u001b[0maxis\u001b[0m\u001b[0;34m,\u001b[0m\u001b[0;34m\u001b[0m\u001b[0;34m\u001b[0m\u001b[0m\n",
            "\u001b[0;32m/usr/local/lib/python3.10/dist-packages/pandas/core/reshape/concat.py\u001b[0m in \u001b[0;36m__init__\u001b[0;34m(self, objs, axis, join, keys, levels, names, ignore_index, verify_integrity, copy, sort)\u001b[0m\n\u001b[1;32m    456\u001b[0m                     \u001b[0;34m\"only Series and DataFrame objs are valid\"\u001b[0m\u001b[0;34m\u001b[0m\u001b[0;34m\u001b[0m\u001b[0m\n\u001b[1;32m    457\u001b[0m                 )\n\u001b[0;32m--> 458\u001b[0;31m                 \u001b[0;32mraise\u001b[0m \u001b[0mTypeError\u001b[0m\u001b[0;34m(\u001b[0m\u001b[0mmsg\u001b[0m\u001b[0;34m)\u001b[0m\u001b[0;34m\u001b[0m\u001b[0;34m\u001b[0m\u001b[0m\n\u001b[0m\u001b[1;32m    459\u001b[0m \u001b[0;34m\u001b[0m\u001b[0m\n\u001b[1;32m    460\u001b[0m             \u001b[0mndims\u001b[0m\u001b[0;34m.\u001b[0m\u001b[0madd\u001b[0m\u001b[0;34m(\u001b[0m\u001b[0mobj\u001b[0m\u001b[0;34m.\u001b[0m\u001b[0mndim\u001b[0m\u001b[0;34m)\u001b[0m\u001b[0;34m\u001b[0m\u001b[0;34m\u001b[0m\u001b[0m\n",
            "\u001b[0;31mTypeError\u001b[0m: cannot concatenate object of type '<class 'str'>'; only Series and DataFrame objs are valid"
          ]
        }
      ],
      "source": [
        "#my code\n",
        "# Calculate and print the average age of the students\n",
        "average_age = student_df['Age'].mean()\n",
        "print(\"Average Age of Students:\", average_age)\n",
        "\n",
        "# Add a new student \"David\" to the DataFrame\n",
        "new_student_data = {'Name': 'Mary', 'Age': 30, 'Grade': 95}\n",
        "student_df = pd.concat(new_student_data, ignore_index=True)\n",
        "\n",
        "# Print the updated DataFrame\n",
        "print(\"\\nUpdated DataFrame:\")\n",
        "print(student_df)\n",
        "\n"
      ],
      "id": "RUY38fg0QDiu"
    },
    {
      "cell_type": "markdown",
      "id": "8ed8a86a",
      "metadata": {
        "id": "8ed8a86a"
      },
      "source": [
        "# Plotting in matplotlib\n",
        "\n",
        "In this section, you will practice plotting using the `matplotlib` library. You will also practice using `numpy` arrays.\n",
        "\n",
        "## Problem 6: Basic Plotting\n",
        "\n",
        "In this problem, you will plot the function f(x) = x^2 for x in the range [-10, 10].\n",
        "\n",
        "First, import the `matplotlib.pyplot` library as `plt`. Then, use the `linspace` function from the `numpy` library to create an array of 100 points between -10 and 10. Finally, plot the function f(x) = x^2 for x in the range [-10, 10]."
      ]
    },
    {
      "cell_type": "code",
      "execution_count": null,
      "id": "6b685b52",
      "metadata": {
        "id": "6b685b52",
        "colab": {
          "base_uri": "https://localhost:8080/",
          "height": 472
        },
        "outputId": "e21ad3f2-45ca-44f7-aebc-bafe1f825c44"
      },
      "outputs": [
        {
          "output_type": "display_data",
          "data": {
            "text/plain": [
              "<Figure size 640x480 with 1 Axes>"
            ],
            "image/png": "[encoded data removed]"
          },
          "metadata": {}
        }
      ],
      "source": [
        "#my code\n",
        "import matplotlib.pyplot as plt\n",
        "import numpy as np\n",
        "\n",
        "# Create an array of 100 points between -10 and 10\n",
        "x_values = np.linspace(-10, 10, 100)\n",
        "\n",
        "# Define the function f(x) = x^2\n",
        "def f(x):\n",
        "    return x**2\n",
        "\n",
        "# Calculate the corresponding y values for each x\n",
        "y_values = f(x_values)\n",
        "\n",
        "# Plot the function\n",
        "plt.plot(x_values, y_values, label='f(x) = x^2')\n",
        "\n",
        "# Add labels and title to the plot\n",
        "plt.xlabel('x')\n",
        "plt.ylabel('f(x)')\n",
        "plt.title('Plot of f(x) = x^2')\n",
        "\n",
        "# Add a legend\n",
        "plt.legend()\n",
        "\n",
        "# Show the plot\n",
        "plt.show()\n"
      ]
    },
    {
      "cell_type": "code",
      "source": [],
      "metadata": {
        "id": "XkoEcvBPDzZ5"
      },
      "id": "XkoEcvBPDzZ5",
      "execution_count": null,
      "outputs": []
    }
  ],
  "metadata": {
    "kernelspec": {
      "display_name": "Python 3 (ipykernel)",
      "language": "python",
      "name": "python3"
    },
    "language_info": {
      "codemirror_mode": {
        "name": "ipython",
        "version": 3
      },
      "file_extension": ".py",
      "mimetype": "text/x-python",
      "name": "python",
      "nbconvert_exporter": "python",
      "pygments_lexer": "ipython3",
      "version": "3.7.10"
    },
    "colab": {
      "provenance": [],
      "toc_visible": true,
      "include_colab_link": true
    }
  },
  "nbformat": 4,
  "nbformat_minor": 5
}